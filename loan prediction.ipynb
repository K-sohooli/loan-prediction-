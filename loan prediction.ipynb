{
 "cells": [
  {
   "cell_type": "code",
   "execution_count": 1,
   "id": "c7d1ae9c",
   "metadata": {},
   "outputs": [],
   "source": [
    "# import libraries which are used during preproccessing data\n",
    "#standard libraries which may use in any project\n",
    "import pandas as pd\n",
    "import numpy as np \n",
    "import sklearn\n",
    "# imports for figures\n",
    "%matplotlib inline\n",
    "import matplotlib as mpl\n",
    "import matplotlib.pyplot as plt\n",
    "\n",
    "###-------------------------\n",
    "# To support both python 2 and python 3\n",
    "from __future__ import division, print_function, unicode_literals\n",
    "import os # This module provides a portable way of using operating system dependent functionality.\n",
    "\n",
    "# to make this notebook's output stable across runs\n",
    "np.random.seed(42)\n"
   ]
  },
  {
   "cell_type": "markdown",
   "id": "ab2ffd00",
   "metadata": {},
   "source": [
    "### Column\tDescription\tType\n",
    "###All values were provided at the time of the loan application.\n",
    "income--------------Income of the user------------------------------int\n",
    "age\t                Age of the user\t                                int\n",
    "experience\t        Professional experience of the user in years\tint\n",
    "profession\t        Profession\t                                    string\n",
    "married\t            Whether married or single\t                    string\n",
    "house_ownership\t    Owned or rented or neither\t                    string\n",
    "car_ownership\t    Does the person own a car\t                    string\n",
    "risk_flag\t        Defaulted on a loan\tstring,The risk_flag indicates whether there has been a default in the past or not.\n",
    "currentjobyears\t    Years of experience in the current job\t        int\n",
    "currenthouseyears\tNumber of years in the current residence\t    int\n",
    "city\t            City of residence\t                            string\n",
    "state\t            State of residence\t                            string"
   ]
  },
  {
   "cell_type": "code",
   "execution_count": 91,
   "id": "58c8438e",
   "metadata": {},
   "outputs": [],
   "source": [
    "#load data\n",
    "loan_pred=pd.read_csv('loan_prediction_Training Data.csv', thousands=',')\n",
    "#thousands str, optional\n",
    "#Thousands separator."
   ]
  },
  {
   "cell_type": "code",
   "execution_count": 4,
   "id": "1b1ef994",
   "metadata": {},
   "outputs": [
    {
     "data": {
      "text/html": [
       "<div>\n",
       "<style scoped>\n",
       "    .dataframe tbody tr th:only-of-type {\n",
       "        vertical-align: middle;\n",
       "    }\n",
       "\n",
       "    .dataframe tbody tr th {\n",
       "        vertical-align: top;\n",
       "    }\n",
       "\n",
       "    .dataframe thead th {\n",
       "        text-align: right;\n",
       "    }\n",
       "</style>\n",
       "<table border=\"1\" class=\"dataframe\">\n",
       "  <thead>\n",
       "    <tr style=\"text-align: right;\">\n",
       "      <th></th>\n",
       "      <th>Id</th>\n",
       "      <th>Income</th>\n",
       "      <th>Age</th>\n",
       "      <th>Experience</th>\n",
       "      <th>Married/Single</th>\n",
       "      <th>House_Ownership</th>\n",
       "      <th>Car_Ownership</th>\n",
       "      <th>Profession</th>\n",
       "      <th>CITY</th>\n",
       "      <th>STATE</th>\n",
       "      <th>CURRENT_JOB_YRS</th>\n",
       "      <th>CURRENT_HOUSE_YRS</th>\n",
       "      <th>Risk_Flag</th>\n",
       "    </tr>\n",
       "  </thead>\n",
       "  <tbody>\n",
       "    <tr>\n",
       "      <th>0</th>\n",
       "      <td>1</td>\n",
       "      <td>1303834</td>\n",
       "      <td>23</td>\n",
       "      <td>3</td>\n",
       "      <td>single</td>\n",
       "      <td>rented</td>\n",
       "      <td>no</td>\n",
       "      <td>Mechanical_engineer</td>\n",
       "      <td>Rewa</td>\n",
       "      <td>Madhya_Pradesh</td>\n",
       "      <td>3</td>\n",
       "      <td>13</td>\n",
       "      <td>0</td>\n",
       "    </tr>\n",
       "    <tr>\n",
       "      <th>1</th>\n",
       "      <td>2</td>\n",
       "      <td>7574516</td>\n",
       "      <td>40</td>\n",
       "      <td>10</td>\n",
       "      <td>single</td>\n",
       "      <td>rented</td>\n",
       "      <td>no</td>\n",
       "      <td>Software_Developer</td>\n",
       "      <td>Parbhani</td>\n",
       "      <td>Maharashtra</td>\n",
       "      <td>9</td>\n",
       "      <td>13</td>\n",
       "      <td>0</td>\n",
       "    </tr>\n",
       "    <tr>\n",
       "      <th>2</th>\n",
       "      <td>3</td>\n",
       "      <td>3991815</td>\n",
       "      <td>66</td>\n",
       "      <td>4</td>\n",
       "      <td>married</td>\n",
       "      <td>rented</td>\n",
       "      <td>no</td>\n",
       "      <td>Technical_writer</td>\n",
       "      <td>Alappuzha</td>\n",
       "      <td>Kerala</td>\n",
       "      <td>4</td>\n",
       "      <td>10</td>\n",
       "      <td>0</td>\n",
       "    </tr>\n",
       "    <tr>\n",
       "      <th>3</th>\n",
       "      <td>4</td>\n",
       "      <td>6256451</td>\n",
       "      <td>41</td>\n",
       "      <td>2</td>\n",
       "      <td>single</td>\n",
       "      <td>rented</td>\n",
       "      <td>yes</td>\n",
       "      <td>Software_Developer</td>\n",
       "      <td>Bhubaneswar</td>\n",
       "      <td>Odisha</td>\n",
       "      <td>2</td>\n",
       "      <td>12</td>\n",
       "      <td>1</td>\n",
       "    </tr>\n",
       "    <tr>\n",
       "      <th>4</th>\n",
       "      <td>5</td>\n",
       "      <td>5768871</td>\n",
       "      <td>47</td>\n",
       "      <td>11</td>\n",
       "      <td>single</td>\n",
       "      <td>rented</td>\n",
       "      <td>no</td>\n",
       "      <td>Civil_servant</td>\n",
       "      <td>Tiruchirappalli[10]</td>\n",
       "      <td>Tamil_Nadu</td>\n",
       "      <td>3</td>\n",
       "      <td>14</td>\n",
       "      <td>1</td>\n",
       "    </tr>\n",
       "  </tbody>\n",
       "</table>\n",
       "</div>"
      ],
      "text/plain": [
       "   Id   Income  Age  Experience Married/Single House_Ownership Car_Ownership  \\\n",
       "0   1  1303834   23           3         single          rented            no   \n",
       "1   2  7574516   40          10         single          rented            no   \n",
       "2   3  3991815   66           4        married          rented            no   \n",
       "3   4  6256451   41           2         single          rented           yes   \n",
       "4   5  5768871   47          11         single          rented            no   \n",
       "\n",
       "            Profession                 CITY           STATE  CURRENT_JOB_YRS  \\\n",
       "0  Mechanical_engineer                 Rewa  Madhya_Pradesh                3   \n",
       "1   Software_Developer             Parbhani     Maharashtra                9   \n",
       "2     Technical_writer            Alappuzha          Kerala                4   \n",
       "3   Software_Developer          Bhubaneswar          Odisha                2   \n",
       "4        Civil_servant  Tiruchirappalli[10]      Tamil_Nadu                3   \n",
       "\n",
       "   CURRENT_HOUSE_YRS  Risk_Flag  \n",
       "0                 13          0  \n",
       "1                 13          0  \n",
       "2                 10          0  \n",
       "3                 12          1  \n",
       "4                 14          1  "
      ]
     },
     "execution_count": 4,
     "metadata": {},
     "output_type": "execute_result"
    }
   ],
   "source": [
    "loan_pred.head()"
   ]
  },
  {
   "cell_type": "code",
   "execution_count": 5,
   "id": "6c01aff2",
   "metadata": {},
   "outputs": [
    {
     "name": "stdout",
     "output_type": "stream",
     "text": [
      "<class 'pandas.core.frame.DataFrame'>\n",
      "RangeIndex: 252000 entries, 0 to 251999\n",
      "Data columns (total 13 columns):\n",
      " #   Column             Non-Null Count   Dtype \n",
      "---  ------             --------------   ----- \n",
      " 0   Id                 252000 non-null  int64 \n",
      " 1   Income             252000 non-null  int64 \n",
      " 2   Age                252000 non-null  int64 \n",
      " 3   Experience         252000 non-null  int64 \n",
      " 4   Married/Single     252000 non-null  object\n",
      " 5   House_Ownership    252000 non-null  object\n",
      " 6   Car_Ownership      252000 non-null  object\n",
      " 7   Profession         252000 non-null  object\n",
      " 8   CITY               252000 non-null  object\n",
      " 9   STATE              252000 non-null  object\n",
      " 10  CURRENT_JOB_YRS    252000 non-null  int64 \n",
      " 11  CURRENT_HOUSE_YRS  252000 non-null  int64 \n",
      " 12  Risk_Flag          252000 non-null  int64 \n",
      "dtypes: int64(7), object(6)\n",
      "memory usage: 25.0+ MB\n"
     ]
    }
   ],
   "source": [
    "loan_pred.info()"
   ]
  },
  {
   "cell_type": "code",
   "execution_count": 32,
   "id": "129a0b22",
   "metadata": {
    "scrolled": false
   },
   "outputs": [
    {
     "data": {
      "text/html": [
       "<div>\n",
       "<style scoped>\n",
       "    .dataframe tbody tr th:only-of-type {\n",
       "        vertical-align: middle;\n",
       "    }\n",
       "\n",
       "    .dataframe tbody tr th {\n",
       "        vertical-align: top;\n",
       "    }\n",
       "\n",
       "    .dataframe thead th {\n",
       "        text-align: right;\n",
       "    }\n",
       "</style>\n",
       "<table border=\"1\" class=\"dataframe\">\n",
       "  <thead>\n",
       "    <tr style=\"text-align: right;\">\n",
       "      <th></th>\n",
       "      <th>Id</th>\n",
       "      <th>Income</th>\n",
       "      <th>Age</th>\n",
       "      <th>Experience</th>\n",
       "      <th>CURRENT_JOB_YRS</th>\n",
       "      <th>CURRENT_HOUSE_YRS</th>\n",
       "      <th>Risk_Flag</th>\n",
       "    </tr>\n",
       "  </thead>\n",
       "  <tbody>\n",
       "    <tr>\n",
       "      <th>count</th>\n",
       "      <td>252000.000000</td>\n",
       "      <td>2.520000e+05</td>\n",
       "      <td>252000.000000</td>\n",
       "      <td>252000.000000</td>\n",
       "      <td>252000.000000</td>\n",
       "      <td>252000.000000</td>\n",
       "      <td>252000.000000</td>\n",
       "    </tr>\n",
       "    <tr>\n",
       "      <th>mean</th>\n",
       "      <td>126000.500000</td>\n",
       "      <td>4.997117e+06</td>\n",
       "      <td>49.954071</td>\n",
       "      <td>10.084437</td>\n",
       "      <td>6.333877</td>\n",
       "      <td>11.997794</td>\n",
       "      <td>0.123000</td>\n",
       "    </tr>\n",
       "    <tr>\n",
       "      <th>std</th>\n",
       "      <td>72746.278255</td>\n",
       "      <td>2.878311e+06</td>\n",
       "      <td>17.063855</td>\n",
       "      <td>6.002590</td>\n",
       "      <td>3.647053</td>\n",
       "      <td>1.399037</td>\n",
       "      <td>0.328438</td>\n",
       "    </tr>\n",
       "    <tr>\n",
       "      <th>min</th>\n",
       "      <td>1.000000</td>\n",
       "      <td>1.031000e+04</td>\n",
       "      <td>21.000000</td>\n",
       "      <td>0.000000</td>\n",
       "      <td>0.000000</td>\n",
       "      <td>10.000000</td>\n",
       "      <td>0.000000</td>\n",
       "    </tr>\n",
       "    <tr>\n",
       "      <th>25%</th>\n",
       "      <td>63000.750000</td>\n",
       "      <td>2.503015e+06</td>\n",
       "      <td>35.000000</td>\n",
       "      <td>5.000000</td>\n",
       "      <td>3.000000</td>\n",
       "      <td>11.000000</td>\n",
       "      <td>0.000000</td>\n",
       "    </tr>\n",
       "    <tr>\n",
       "      <th>50%</th>\n",
       "      <td>126000.500000</td>\n",
       "      <td>5.000694e+06</td>\n",
       "      <td>50.000000</td>\n",
       "      <td>10.000000</td>\n",
       "      <td>6.000000</td>\n",
       "      <td>12.000000</td>\n",
       "      <td>0.000000</td>\n",
       "    </tr>\n",
       "    <tr>\n",
       "      <th>75%</th>\n",
       "      <td>189000.250000</td>\n",
       "      <td>7.477502e+06</td>\n",
       "      <td>65.000000</td>\n",
       "      <td>15.000000</td>\n",
       "      <td>9.000000</td>\n",
       "      <td>13.000000</td>\n",
       "      <td>0.000000</td>\n",
       "    </tr>\n",
       "    <tr>\n",
       "      <th>max</th>\n",
       "      <td>252000.000000</td>\n",
       "      <td>9.999938e+06</td>\n",
       "      <td>79.000000</td>\n",
       "      <td>20.000000</td>\n",
       "      <td>14.000000</td>\n",
       "      <td>14.000000</td>\n",
       "      <td>1.000000</td>\n",
       "    </tr>\n",
       "  </tbody>\n",
       "</table>\n",
       "</div>"
      ],
      "text/plain": [
       "                  Id        Income            Age     Experience  \\\n",
       "count  252000.000000  2.520000e+05  252000.000000  252000.000000   \n",
       "mean   126000.500000  4.997117e+06      49.954071      10.084437   \n",
       "std     72746.278255  2.878311e+06      17.063855       6.002590   \n",
       "min         1.000000  1.031000e+04      21.000000       0.000000   \n",
       "25%     63000.750000  2.503015e+06      35.000000       5.000000   \n",
       "50%    126000.500000  5.000694e+06      50.000000      10.000000   \n",
       "75%    189000.250000  7.477502e+06      65.000000      15.000000   \n",
       "max    252000.000000  9.999938e+06      79.000000      20.000000   \n",
       "\n",
       "       CURRENT_JOB_YRS  CURRENT_HOUSE_YRS      Risk_Flag  \n",
       "count    252000.000000      252000.000000  252000.000000  \n",
       "mean          6.333877          11.997794       0.123000  \n",
       "std           3.647053           1.399037       0.328438  \n",
       "min           0.000000          10.000000       0.000000  \n",
       "25%           3.000000          11.000000       0.000000  \n",
       "50%           6.000000          12.000000       0.000000  \n",
       "75%           9.000000          13.000000       0.000000  \n",
       "max          14.000000          14.000000       1.000000  "
      ]
     },
     "execution_count": 32,
     "metadata": {},
     "output_type": "execute_result"
    }
   ],
   "source": [
    "loan_pred.describe()"
   ]
  },
  {
   "cell_type": "markdown",
   "id": "d7067b5d",
   "metadata": {},
   "source": [
    "### ID could be removed from data frame unless we have a plan to use stratified sampling in test/train data split. but in this data set we have 252000 rows and it is quit enough to use train_test_split() function in which simple random sampling method is used. There for, the removal of ID, not only would not lead to any problem, but also it will improve the result because an attribute which has not any effect on result has been omited.\n"
   ]
  },
  {
   "cell_type": "code",
   "execution_count": 49,
   "id": "c492f230",
   "metadata": {},
   "outputs": [],
   "source": [
    "loan_pred.drop(columns='Id', inplace=True)"
   ]
  },
  {
   "cell_type": "code",
   "execution_count": 54,
   "id": "a4e311f9",
   "metadata": {},
   "outputs": [
    {
     "data": {
      "text/plain": [
       "(252000, 12)"
      ]
     },
     "execution_count": 54,
     "metadata": {},
     "output_type": "execute_result"
    }
   ],
   "source": [
    "loan_pred.shape"
   ]
  },
  {
   "cell_type": "markdown",
   "id": "19df8bf1",
   "metadata": {},
   "source": [
    "### checking for Null values "
   ]
  },
  {
   "cell_type": "code",
   "execution_count": 55,
   "id": "3e54d3af",
   "metadata": {},
   "outputs": [
    {
     "data": {
      "text/plain": [
       "Income               0\n",
       "Age                  0\n",
       "Experience           0\n",
       "Married/Single       0\n",
       "House_Ownership      0\n",
       "Car_Ownership        0\n",
       "Profession           0\n",
       "CITY                 0\n",
       "STATE                0\n",
       "CURRENT_JOB_YRS      0\n",
       "CURRENT_HOUSE_YRS    0\n",
       "Risk_Flag            0\n",
       "dtype: int64"
      ]
     },
     "execution_count": 55,
     "metadata": {},
     "output_type": "execute_result"
    }
   ],
   "source": [
    "loan_pred.isnull().sum()"
   ]
  },
  {
   "cell_type": "markdown",
   "id": "251ee733",
   "metadata": {},
   "source": [
    "### checking correlation between attributes"
   ]
  },
  {
   "cell_type": "code",
   "execution_count": 61,
   "id": "0bfa7ff2",
   "metadata": {},
   "outputs": [
    {
     "data": {
      "text/plain": [
       "Text(0.5, 1.0, 'Correlation Map')"
      ]
     },
     "execution_count": 61,
     "metadata": {},
     "output_type": "execute_result"
    },
    {
     "data": {
      "image/png": "[encoded data removed]",
      "text/plain": [
       "<Figure size 720x720 with 2 Axes>"
      ]
     },
     "metadata": {
      "needs_background": "light"
     },
     "output_type": "display_data"
    }
   ],
   "source": [
    "import seaborn as sns\n",
    "loan_pred.corr()\n",
    "plt.figure(figsize=(10,10))\n",
    "sns.heatmap(loan_pred.corr(),cmap='YlGnBu', annot = True)\n",
    "plt.title('Correlation Map', fontweight='bold', fontsize=16)"
   ]
  },
  {
   "cell_type": "markdown",
   "id": "6c02498f",
   "metadata": {},
   "source": [
    "## considering which column could be converted from categorical to numerical "
   ]
  },
  {
   "cell_type": "code",
   "execution_count": 23,
   "id": "9612d406",
   "metadata": {},
   "outputs": [
    {
     "data": {
      "text/plain": [
       "Physician                     5957\n",
       "Statistician                  5806\n",
       "Web_designer                  5397\n",
       "Psychologist                  5390\n",
       "Computer_hardware_engineer    5372\n",
       "Drafter                       5359\n",
       "Magistrate                    5357\n",
       "Fashion_Designer              5304\n",
       "Air_traffic_controller        5281\n",
       "Comedian                      5259\n",
       "Industrial_Engineer           5250\n",
       "Mechanical_engineer           5217\n",
       "Chemical_engineer             5205\n",
       "Technical_writer              5195\n",
       "Hotel_Manager                 5178\n",
       "Financial_Analyst             5167\n",
       "Graphic_Designer              5166\n",
       "Flight_attendant              5128\n",
       "Biomedical_Engineer           5127\n",
       "Secretary                     5061\n",
       "Software_Developer            5053\n",
       "Petroleum_Engineer            5041\n",
       "Police_officer                5035\n",
       "Computer_operator             4990\n",
       "Politician                    4944\n",
       "Microbiologist                4881\n",
       "Technician                    4864\n",
       "Artist                        4861\n",
       "Lawyer                        4818\n",
       "Consultant                    4808\n",
       "Dentist                       4782\n",
       "Scientist                     4781\n",
       "Surgeon                       4772\n",
       "Aviator                       4758\n",
       "Technology_specialist         4737\n",
       "Design_Engineer               4729\n",
       "Surveyor                      4714\n",
       "Geologist                     4672\n",
       "Analyst                       4668\n",
       "Army_officer                  4661\n",
       "Architect                     4657\n",
       "Chef                          4635\n",
       "Librarian                     4628\n",
       "Civil_engineer                4616\n",
       "Designer                      4598\n",
       "Economist                     4573\n",
       "Firefighter                   4507\n",
       "Chartered_Accountant          4493\n",
       "Civil_servant                 4413\n",
       "Official                      4087\n",
       "Engineer                      4048\n",
       "Name: Profession, dtype: int64"
      ]
     },
     "execution_count": 23,
     "metadata": {},
     "output_type": "execute_result"
    }
   ],
   "source": [
    "loan_pred['Profession'].value_counts()"
   ]
  },
  {
   "cell_type": "code",
   "execution_count": 26,
   "id": "069a24d3",
   "metadata": {},
   "outputs": [
    {
     "name": "stdout",
     "output_type": "stream",
     "text": [
      "['married' 'single']\n",
      "single     226272\n",
      "married     25728\n",
      "Name: Married/Single, dtype: int64\n"
     ]
    }
   ],
   "source": [
    "print(np.unique(loan_pred['Married/Single']))# could be convert to 0 and 1\n",
    "print(loan_pred['Married/Single'].value_counts())\n"
   ]
  },
  {
   "cell_type": "code",
   "execution_count": 63,
   "id": "6cf82e76",
   "metadata": {},
   "outputs": [
    {
     "name": "stdout",
     "output_type": "stream",
     "text": [
      "0    226272\n",
      "1     25728\n",
      "Name: Married/Single, dtype: int64\n"
     ]
    }
   ],
   "source": [
    "###Changing Married and Single to 1 and 0 respectively \n",
    "loan_pred['Married/Single'].replace(['single','married'],[0,1],inplace=True)\n",
    "print(loan_pred['Married/Single'].value_counts())"
   ]
  },
  {
   "cell_type": "code",
   "execution_count": 28,
   "id": "6681c47b",
   "metadata": {},
   "outputs": [
    {
     "name": "stdout",
     "output_type": "stream",
     "text": [
      "['norent_noown' 'owned' 'rented']\n",
      "rented          231898\n",
      "owned            12918\n",
      "norent_noown      7184\n",
      "Name: House_Ownership, dtype: int64\n"
     ]
    }
   ],
   "source": [
    "#print(np.unique(loan_pred['House_Ownership']))# could be convert to 0 and 1 and 2\n",
    "print(loan_pred['House_Ownership'].value_counts())\n"
   ]
  },
  {
   "cell_type": "code",
   "execution_count": 68,
   "id": "e561a020",
   "metadata": {},
   "outputs": [
    {
     "name": "stdout",
     "output_type": "stream",
     "text": [
      "1    231898\n",
      "2     12918\n",
      "3      7184\n",
      "Name: House_Ownership, dtype: int64\n"
     ]
    }
   ],
   "source": [
    "#Changing House_Ownership to 1 and 0; Yes = 1 & no =0\n",
    "loan_pred['House_Ownership'].replace(['rented','owned','norent_noown'],[1,2,3], inplace=True)\n",
    "print(loan_pred['House_Ownership'].value_counts())"
   ]
  },
  {
   "cell_type": "code",
   "execution_count": 29,
   "id": "fadc8460",
   "metadata": {
    "scrolled": true
   },
   "outputs": [
    {
     "name": "stdout",
     "output_type": "stream",
     "text": [
      "no     176000\n",
      "yes     76000\n",
      "Name: Car_Ownership, dtype: int64\n"
     ]
    }
   ],
   "source": [
    "np.unique(loan_pred['Car_Ownership']) # could be convert to 0 and 1\n",
    "print(loan_pred['Car_Ownership'].value_counts())\n"
   ]
  },
  {
   "cell_type": "code",
   "execution_count": 70,
   "id": "ca8d002b",
   "metadata": {},
   "outputs": [
    {
     "name": "stdout",
     "output_type": "stream",
     "text": [
      "0    176000\n",
      "1     76000\n",
      "Name: Car_Ownership, dtype: int64\n"
     ]
    }
   ],
   "source": [
    "#Changing Car_Ownership to 1 and 0; Yes = 1 & no =0\n",
    "loan_pred['Car_Ownership'].replace(['no','yes'],[0,1], inplace=True)\n",
    "print(loan_pred['Car_Ownership'].value_counts())"
   ]
  },
  {
   "cell_type": "code",
   "execution_count": 30,
   "id": "72cee4ff",
   "metadata": {},
   "outputs": [
    {
     "data": {
      "text/plain": [
       "Vijayanagaram       1259\n",
       "Bhopal              1208\n",
       "Bulandshahr         1185\n",
       "Saharsa[29]         1180\n",
       "Vijayawada          1172\n",
       "                    ... \n",
       "Ujjain               486\n",
       "Warangal[11][12]     459\n",
       "Bettiah[33]          457\n",
       "Katni                448\n",
       "Karaikudi            431\n",
       "Name: CITY, Length: 317, dtype: int64"
      ]
     },
     "execution_count": 30,
     "metadata": {},
     "output_type": "execute_result"
    }
   ],
   "source": [
    "np.unique(loan_pred['CITY']) # converting to number doesn't look helping \n",
    "loan_pred['CITY'].value_counts()"
   ]
  },
  {
   "cell_type": "code",
   "execution_count": 31,
   "id": "231732e1",
   "metadata": {},
   "outputs": [
    {
     "data": {
      "text/plain": [
       "Uttar_Pradesh        28400\n",
       "Maharashtra          25562\n",
       "Andhra_Pradesh       25297\n",
       "West_Bengal          23483\n",
       "Bihar                19780\n",
       "Tamil_Nadu           16537\n",
       "Madhya_Pradesh       14122\n",
       "Karnataka            11855\n",
       "Gujarat              11408\n",
       "Rajasthan             9174\n",
       "Jharkhand             8965\n",
       "Haryana               7890\n",
       "Telangana             7524\n",
       "Assam                 7062\n",
       "Kerala                5805\n",
       "Delhi                 5490\n",
       "Punjab                4720\n",
       "Odisha                4658\n",
       "Chhattisgarh          3834\n",
       "Uttarakhand           1874\n",
       "Jammu_and_Kashmir     1780\n",
       "Puducherry            1433\n",
       "Mizoram                849\n",
       "Manipur                849\n",
       "Himachal_Pradesh       833\n",
       "Tripura                809\n",
       "Uttar_Pradesh[5]       743\n",
       "Chandigarh             656\n",
       "Sikkim                 608\n",
       "Name: STATE, dtype: int64"
      ]
     },
     "execution_count": 31,
     "metadata": {},
     "output_type": "execute_result"
    }
   ],
   "source": [
    "np.unique(loan_pred['STATE'])# converting to number doesn't look helping \n",
    "loan_pred['STATE'].value_counts()"
   ]
  },
  {
   "cell_type": "code",
   "execution_count": 17,
   "id": "ee48bbd0",
   "metadata": {},
   "outputs": [
    {
     "data": {
      "text/plain": [
       "array([ 0,  1,  2,  3,  4,  5,  6,  7,  8,  9, 10, 11, 12, 13, 14])"
      ]
     },
     "execution_count": 17,
     "metadata": {},
     "output_type": "execute_result"
    }
   ],
   "source": [
    "np.unique(loan_pred['CURRENT_JOB_YRS']) "
   ]
  },
  {
   "cell_type": "markdown",
   "id": "700d7eec",
   "metadata": {},
   "source": [
    "## VISUALIZING DATA"
   ]
  },
  {
   "cell_type": "code",
   "execution_count": 40,
   "id": "aae7dd15",
   "metadata": {},
   "outputs": [
    {
     "data": {
      "text/plain": [
       "<AxesSubplot:>"
      ]
     },
     "execution_count": 40,
     "metadata": {},
     "output_type": "execute_result"
    },
    {
     "data": {
      "image/png": "[encoded data removed]",
      "text/plain": [
       "<Figure size 720x504 with 1 Axes>"
      ]
     },
     "metadata": {
      "needs_background": "light"
     },
     "output_type": "display_data"
    }
   ],
   "source": [
    "loan_pred['Income'].hist(bins=50, figsize=(10,7))"
   ]
  },
  {
   "cell_type": "code",
   "execution_count": 42,
   "id": "922b7796",
   "metadata": {},
   "outputs": [
    {
     "data": {
      "text/plain": [
       "<AxesSubplot:>"
      ]
     },
     "execution_count": 42,
     "metadata": {},
     "output_type": "execute_result"
    },
    {
     "data": {
      "image/png": "[encoded data removed]",
      "text/plain": [
       "<Figure size 720x504 with 1 Axes>"
      ]
     },
     "metadata": {
      "needs_background": "light"
     },
     "output_type": "display_data"
    }
   ],
   "source": [
    "loan_pred['Age'].hist(bins=50, figsize=(10,7))"
   ]
  },
  {
   "cell_type": "code",
   "execution_count": 44,
   "id": "d2818098",
   "metadata": {},
   "outputs": [
    {
     "data": {
      "text/plain": [
       "<AxesSubplot:>"
      ]
     },
     "execution_count": 44,
     "metadata": {},
     "output_type": "execute_result"
    },
    {
     "data": {
      "image/png": "[encoded data removed]",
      "text/plain": [
       "<Figure size 720x504 with 1 Axes>"
      ]
     },
     "metadata": {
      "needs_background": "light"
     },
     "output_type": "display_data"
    }
   ],
   "source": [
    "loan_pred['Experience'].hist(bins=40, figsize=(10,7))"
   ]
  },
  {
   "cell_type": "code",
   "execution_count": 45,
   "id": "10744683",
   "metadata": {},
   "outputs": [
    {
     "data": {
      "text/plain": [
       "<AxesSubplot:>"
      ]
     },
     "execution_count": 45,
     "metadata": {},
     "output_type": "execute_result"
    },
    {
     "data": {
      "image/png": "[encoded data removed]",
      "text/plain": [
       "<Figure size 720x504 with 1 Axes>"
      ]
     },
     "metadata": {
      "needs_background": "light"
     },
     "output_type": "display_data"
    }
   ],
   "source": [
    "loan_pred['CURRENT_HOUSE_YRS'].hist(bins=40, figsize=(10,7))"
   ]
  },
  {
   "cell_type": "code",
   "execution_count": 47,
   "id": "340fbc0a",
   "metadata": {},
   "outputs": [
    {
     "data": {
      "text/plain": [
       "<AxesSubplot:>"
      ]
     },
     "execution_count": 47,
     "metadata": {},
     "output_type": "execute_result"
    },
    {
     "data": {
      "image/png": "[encoded data removed]",
      "text/plain": [
       "<Figure size 720x504 with 1 Axes>"
      ]
     },
     "metadata": {
      "needs_background": "light"
     },
     "output_type": "display_data"
    }
   ],
   "source": [
    "loan_pred['CURRENT_JOB_YRS'].hist(bins=50, figsize=(10,7))"
   ]
  },
  {
   "cell_type": "code",
   "execution_count": 72,
   "id": "042768e4",
   "metadata": {},
   "outputs": [
    {
     "data": {
      "text/plain": [
       "<AxesSubplot:xlabel='CURRENT_HOUSE_YRS', ylabel='count'>"
      ]
     },
     "execution_count": 72,
     "metadata": {},
     "output_type": "execute_result"
    },
    {
     "data": {
      "image/png": "[encoded data removed]",
      "text/plain": [
       "<Figure size 432x288 with 1 Axes>"
      ]
     },
     "metadata": {
      "needs_background": "light"
     },
     "output_type": "display_data"
    }
   ],
   "source": [
    "sns.countplot(x='CURRENT_HOUSE_YRS', data=loan_pred, hue='House_Ownership')\n",
    "# 'rented','owned','norent_noown'],[1,2,3]"
   ]
  },
  {
   "cell_type": "code",
   "execution_count": 73,
   "id": "ceade2e0",
   "metadata": {},
   "outputs": [
    {
     "data": {
      "text/plain": [
       "<AxesSubplot:xlabel='Married/Single', ylabel='count'>"
      ]
     },
     "execution_count": 73,
     "metadata": {},
     "output_type": "execute_result"
    },
    {
     "data": {
      "image/png": "[encoded data removed]",
      "text/plain": [
       "<Figure size 432x288 with 1 Axes>"
      ]
     },
     "metadata": {
      "needs_background": "light"
     },
     "output_type": "display_data"
    }
   ],
   "source": [
    "sns.countplot(x='Married/Single', data= loan_pred, hue='House_Ownership')"
   ]
  },
  {
   "cell_type": "code",
   "execution_count": 83,
   "id": "9800a10c",
   "metadata": {},
   "outputs": [
    {
     "name": "stdout",
     "output_type": "stream",
     "text": [
      "10310 9999938\n",
      "        Income  Age  Experience  Married/Single  House_Ownership  \\\n",
      "256      10310   70          20               0                1   \n",
      "5624     10310   70          20               0                1   \n",
      "16414    10310   70          20               0                1   \n",
      "21778    10310   70          20               0                1   \n",
      "27151    10310   70          20               0                1   \n",
      "32567    10310   70          20               0                1   \n",
      "48759    10310   70          20               0                1   \n",
      "54185    10310   70          20               0                1   \n",
      "59595    10310   70          20               0                1   \n",
      "65018    10310   70          20               0                1   \n",
      "70427    10310   70          20               0                1   \n",
      "75837    10310   70          20               0                1   \n",
      "81247    10310   70          20               0                1   \n",
      "86665    10310   70          20               0                1   \n",
      "92000    10310   70          20               0                1   \n",
      "97413    10310   70          20               0                1   \n",
      "102832   10310   70          20               0                1   \n",
      "108223   10310   70          20               0                1   \n",
      "113637   10310   70          20               0                1   \n",
      "119040   10310   70          20               0                1   \n",
      "124428   10310   70          20               0                1   \n",
      "129856   10310   70          20               0                1   \n",
      "135225   10310   70          20               0                1   \n",
      "140597   10310   70          20               0                1   \n",
      "146007   10310   70          20               0                1   \n",
      "151376   10310   70          20               0                1   \n",
      "156777   10310   70          20               0                1   \n",
      "162128   10310   70          20               0                1   \n",
      "167543   10310   70          20               0                1   \n",
      "172970   10310   70          20               0                1   \n",
      "178393   10310   70          20               0                1   \n",
      "183787   10310   70          20               0                1   \n",
      "189220   10310   70          20               0                1   \n",
      "194613   10310   70          20               0                1   \n",
      "200026   10310   70          20               0                1   \n",
      "205453   10310   70          20               0                1   \n",
      "210836   10310   70          20               0                1   \n",
      "\n",
      "        Car_Ownership Profession       CITY        STATE  CURRENT_JOB_YRS  \\\n",
      "256                 1   Engineer  Baranagar  West_Bengal                7   \n",
      "5624                1   Engineer  Baranagar  West_Bengal                7   \n",
      "16414               1   Engineer  Baranagar  West_Bengal                7   \n",
      "21778               1   Engineer  Baranagar  West_Bengal                7   \n",
      "27151               1   Engineer  Baranagar  West_Bengal                7   \n",
      "32567               1   Engineer  Baranagar  West_Bengal                7   \n",
      "48759               1   Engineer  Baranagar  West_Bengal                7   \n",
      "54185               1   Engineer  Baranagar  West_Bengal                7   \n",
      "59595               1   Engineer  Baranagar  West_Bengal                7   \n",
      "65018               1   Engineer  Baranagar  West_Bengal                7   \n",
      "70427               1   Engineer  Baranagar  West_Bengal                7   \n",
      "75837               1   Engineer  Baranagar  West_Bengal                7   \n",
      "81247               1   Engineer  Baranagar  West_Bengal                7   \n",
      "86665               1   Engineer  Baranagar  West_Bengal                7   \n",
      "92000               1   Engineer  Baranagar  West_Bengal                7   \n",
      "97413               1   Engineer  Baranagar  West_Bengal                7   \n",
      "102832              1   Engineer  Baranagar  West_Bengal                7   \n",
      "108223              1   Engineer  Baranagar  West_Bengal                7   \n",
      "113637              1   Engineer  Baranagar  West_Bengal                7   \n",
      "119040              1   Engineer  Baranagar  West_Bengal                7   \n",
      "124428              1   Engineer  Baranagar  West_Bengal                7   \n",
      "129856              1   Engineer  Baranagar  West_Bengal                7   \n",
      "135225              1   Engineer  Baranagar  West_Bengal                7   \n",
      "140597              1   Engineer  Baranagar  West_Bengal                7   \n",
      "146007              1   Engineer  Baranagar  West_Bengal                7   \n",
      "151376              1   Engineer  Baranagar  West_Bengal                7   \n",
      "156777              1   Engineer  Baranagar  West_Bengal                7   \n",
      "162128              1   Engineer  Baranagar  West_Bengal                7   \n",
      "167543              1   Engineer  Baranagar  West_Bengal                7   \n",
      "172970              1   Engineer  Baranagar  West_Bengal                7   \n",
      "178393              1   Engineer  Baranagar  West_Bengal                7   \n",
      "183787              1   Engineer  Baranagar  West_Bengal                7   \n",
      "189220              1   Engineer  Baranagar  West_Bengal                7   \n",
      "194613              1   Engineer  Baranagar  West_Bengal                7   \n",
      "200026              1   Engineer  Baranagar  West_Bengal                7   \n",
      "205453              1   Engineer  Baranagar  West_Bengal                7   \n",
      "210836              1   Engineer  Baranagar  West_Bengal                7   \n",
      "\n",
      "        CURRENT_HOUSE_YRS  Risk_Flag  \n",
      "256                    14          0  \n",
      "5624                   14          0  \n",
      "16414                  14          0  \n",
      "21778                  14          0  \n",
      "27151                  14          0  \n",
      "32567                  14          0  \n",
      "48759                  14          0  \n",
      "54185                  14          0  \n",
      "59595                  14          0  \n",
      "65018                  14          0  \n",
      "70427                  14          0  \n",
      "75837                  14          0  \n",
      "81247                  14          0  \n",
      "86665                  14          0  \n",
      "92000                  14          0  \n",
      "97413                  14          0  \n",
      "102832                 14          0  \n",
      "108223                 14          0  \n",
      "113637                 14          0  \n",
      "119040                 14          0  \n",
      "124428                 14          0  \n",
      "129856                 14          0  \n",
      "135225                 14          0  \n",
      "140597                 14          0  \n",
      "146007                 14          0  \n",
      "151376                 14          0  \n",
      "156777                 14          0  \n",
      "162128                 14          0  \n",
      "167543                 14          0  \n",
      "172970                 14          0  \n",
      "178393                 14          0  \n",
      "183787                 14          0  \n",
      "189220                 14          0  \n",
      "194613                 14          0  \n",
      "200026                 14          0  \n",
      "205453                 14          0  \n",
      "210836                 14          0  \n",
      "Income  Age  Experience  Married/Single  House_Ownership  Car_Ownership  Profession  CITY       STATE        CURRENT_JOB_YRS  CURRENT_HOUSE_YRS  Risk_Flag\n",
      "10310   70   20          0               1                1              Engineer    Baranagar  West_Bengal  7                14                 0            37\n",
      "dtype: int64\n"
     ]
    }
   ],
   "source": [
    "print(min(loan_pred[\"Income\"]), max(loan_pred['Income']))\n",
    "print(loan_pred.loc[loan_pred['Income']==10310 ])\n",
    "\n",
    "    "
   ]
  },
  {
   "cell_type": "code",
   "execution_count": 84,
   "id": "e3b499e3",
   "metadata": {},
   "outputs": [
    {
     "name": "stdout",
     "output_type": "stream",
     "text": [
      "Income  Age  Experience  Married/Single  House_Ownership  Car_Ownership  Profession  CITY       STATE        CURRENT_JOB_YRS  CURRENT_HOUSE_YRS  Risk_Flag\n",
      "10310   70   20          0               1                1              Engineer    Baranagar  West_Bengal  7                14                 0            37\n",
      "dtype: int64\n"
     ]
    }
   ],
   "source": [
    "print((loan_pred.loc[loan_pred['Income']==10310 ]).value_counts())"
   ]
  },
  {
   "cell_type": "code",
   "execution_count": 85,
   "id": "73667908",
   "metadata": {},
   "outputs": [],
   "source": [
    "### above outcome seems not be reliable. how it could possible 37 persons have exactly the same attributes \n",
    "### it is recommended to remove all, but one "
   ]
  },
  {
   "cell_type": "code",
   "execution_count": 94,
   "id": "c3303f1b",
   "metadata": {},
   "outputs": [],
   "source": [
    "attributes=['Income','Age','Experience','Married/Single','House_Ownership','Car_Ownership','Profession','CITY','STATE','CURRENT_JOB_YRS','CURRENT_HOUSE_YRS','Risk_Flag' ]\n",
    "loan_pred.drop_duplicates(subset=attributes, inplace=True)"
   ]
  },
  {
   "cell_type": "code",
   "execution_count": 95,
   "id": "a19c019b",
   "metadata": {},
   "outputs": [
    {
     "data": {
      "text/plain": [
       "(43190, 13)"
      ]
     },
     "execution_count": 95,
     "metadata": {},
     "output_type": "execute_result"
    }
   ],
   "source": [
    "loan_pred.shape"
   ]
  },
  {
   "cell_type": "code",
   "execution_count": 82,
   "id": "1047f537",
   "metadata": {},
   "outputs": [
    {
     "name": "stdout",
     "output_type": "stream",
     "text": [
      "         Income  Age  Experience  Married/Single  House_Ownership  \\\n",
      "229019  9999938   34          19               0                1   \n",
      "\n",
      "        Car_Ownership      Profession       CITY    STATE  CURRENT_JOB_YRS  \\\n",
      "229019              1  Police_officer  Panchkula  Haryana                6   \n",
      "\n",
      "        CURRENT_HOUSE_YRS  Risk_Flag  \n",
      "229019                 13          0  \n"
     ]
    }
   ],
   "source": [
    "print(loan_pred.loc[loan_pred['Income']==9999938])"
   ]
  },
  {
   "cell_type": "code",
   "execution_count": null,
   "id": "f69eeccd",
   "metadata": {},
   "outputs": [],
   "source": []
  }
 ],
 "metadata": {
  "kernelspec": {
   "display_name": "Python 3 (ipykernel)",
   "language": "python",
   "name": "python3"
  },
  "language_info": {
   "codemirror_mode": {
    "name": "ipython",
    "version": 3
   },
   "file_extension": ".py",
   "mimetype": "text/x-python",
   "name": "python",
   "nbconvert_exporter": "python",
   "pygments_lexer": "ipython3",
   "version": "3.9.7"
  }
 },
 "nbformat": 4,
 "nbformat_minor": 5
}
